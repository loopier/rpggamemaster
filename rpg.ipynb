{
 "cells": [
  {
   "cell_type": "code",
   "execution_count": 49,
   "metadata": {},
   "outputs": [],
   "source": [
    "import pandas as pd\n",
    "import numpy as np\n",
    "from random import randint\n",
    "\n",
    "df = pd.read_csv(\"MasterSheetTables1d10.csv\")\n",
    "\n",
    "def getTableNames():\n",
    "    return list(df)\n",
    "\n",
    "# Returns the result of the dice in a given table\n",
    "def getTableResult(tablename, diceresult=0):\n",
    "    # dice's lowest value is always 1\n",
    "    diceresult -= 1\n",
    "    table = df[tablename]\n",
    "    \n",
    "    if diceresult <= 0 or diceresult > len(table):\n",
    "        diceresult = randint(0,99)\n",
    "        print (\"Value out of scope.  Getting random value: \", diceresult)\n",
    "        \n",
    "    return table[diceresult]\n",
    "\n",
    "# Return descritpors from two tables.  Get random by default\n",
    "def getDescriptors(firstresult=0, secondresult=0):\n",
    "    return getTableResult(\"Descriptors 1\", firstresult), getTableResult(\"Descriptors 2\", secondresult)\n",
    "\n",
    "# Custom input for numbers  \n",
    "def intInput(prompt=\": \"):\n",
    "    try:\n",
    "        return int(float(input(prompt)))\n",
    "    except:\n",
    "        return 0"
   ]
  },
  {
   "cell_type": "code",
   "execution_count": null,
   "metadata": {},
   "outputs": [],
   "source": [
    "r1 = getTableResult(\"Descriptors 1\")\n",
    "r2 = getTableResult(\"Descriptors 2\")\n",
    "r1, r2"
   ]
  },
  {
   "cell_type": "code",
   "execution_count": null,
   "metadata": {},
   "outputs": [],
   "source": [
    "getTableNames()"
   ]
  },
  {
   "cell_type": "code",
   "execution_count": 50,
   "metadata": {},
   "outputs": [
    {
     "name": "stdout",
     "output_type": "stream",
     "text": [
      "Dice result: fff\n",
      "Dice result: \n",
      "Value out of scope.  Getting random value:  24\n",
      "Value out of scope.  Getting random value:  88\n"
     ]
    },
    {
     "data": {
      "text/plain": [
       "('Deliberately', 'Smelly')"
      ]
     },
     "execution_count": 50,
     "metadata": {},
     "output_type": "execute_result"
    }
   ],
   "source": [
    "r1, r2 = intInput(\"Dice result: \"), intInput(\"Dice result: \")\n",
    "\n",
    "descriptor = getDescriptors(firstresult=r1, secondresult=r2)\n",
    "descriptor"
   ]
  }
 ],
 "metadata": {
  "kernelspec": {
   "display_name": "Python 3",
   "language": "python",
   "name": "python3"
  },
  "language_info": {
   "codemirror_mode": {
    "name": "ipython",
    "version": 3
   },
   "file_extension": ".py",
   "mimetype": "text/x-python",
   "name": "python",
   "nbconvert_exporter": "python",
   "pygments_lexer": "ipython3",
   "version": "3.7.2"
  }
 },
 "nbformat": 4,
 "nbformat_minor": 2
}
