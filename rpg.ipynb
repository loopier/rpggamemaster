{
 "cells": [
  {
   "cell_type": "code",
   "execution_count": 4,
   "metadata": {},
   "outputs": [],
   "source": [
    "import pandas as pd\n",
    "import numpy as np\n",
    "from random import randint\n",
    "\n",
    "df = pd.read_csv(\"MasterSheetTables1d10.csv\")\n",
    "\n",
    "def getTableNames():\n",
    "    return list(df)\n",
    "\n",
    "# Returns the result of the dice in a given table\n",
    "def getTableResult(tablename, diceresult=0):\n",
    "    # dice's lowest value is always 1\n",
    "    diceresult -= 1\n",
    "    table = df[tablename]\n",
    "    \n",
    "    if diceresult <= 0 or diceresult > len(table):\n",
    "        diceresult = randint(0,99)\n",
    "        print (\"Value out of scope.  Getting random value: \", diceresult)\n",
    "        \n",
    "    return table[diceresult]\n",
    "\n",
    "# Return descritpors from two tables.  Get random by default\n",
    "def getDescriptors(firstresult=0, secondresult=0):\n",
    "    return getTableResult(\"Descriptors 1\", firstresult), getTableResult(\"Descriptors 2\", secondresult)\n",
    "\n",
    "# Return descritpors from two tables.  Get random by default\n",
    "def getActions(firstresult=0, secondresult=0):\n",
    "    return getTableResult(\"Actions 1\", firstresult), getTableResult(\"Actions 2\", secondresult)\n",
    "\n",
    "# Return descritpors from two tables.  Get random by default\n",
    "def getEventFocus(result=0):\n",
    "    return getTableResult(\"EventFocus\", result)\n",
    "\n",
    "# Return descritpors from two tables.  Get random by default\n",
    "def getSpecialElements(result=0):\n",
    "    return getTableResult(\"SpecialElements\", result)\n",
    "\n",
    "# Return descritpors from two tables.  Get random by default\n",
    "def getCharacterSpecialTraits(result=0):\n",
    "    return getTableResult(\"Character Special Traits\", result)\n",
    "\n",
    "# Return descritpors from two tables.  Get random by default\n",
    "def getCharacterIdentity(result=0):\n",
    "    return getTableResult(\"Character Identity\", result)\n",
    "\n",
    "# Return descritpors from two tables.  Get random by default\n",
    "def getCharacterDescriptors(result=0):\n",
    "    return getTableResult(\"Character Descriptors\", result)\n",
    "\n",
    "# Return descritpors from two tables.  Get random by default\n",
    "def getCthulhuOccupations(result=0):\n",
    "    return getTableResult(\"Cthulhu Occupations\", result)\n",
    "\n",
    "# Return descritpors from two tables.  Get random by default\n",
    "def getCthulhuElements(result=0):\n",
    "    return getTableResult(\"Cthulhu Elements\", result)\n",
    "\n",
    "# Return descritpors from two tables.  Get random by default\n",
    "def getEnemies(result=0):\n",
    "    return getTableResult(\"Enemies\", result)\n",
    "\n",
    "# Custom input for numbers  \n",
    "def intInput(prompt=\": \"):\n",
    "    try:\n",
    "        return int(float(input(prompt)))\n",
    "    except:\n",
    "        return 0 "
   ]
  },
  {
   "cell_type": "code",
   "execution_count": 25,
   "metadata": {},
   "outputs": [],
   "source": [
    "descriptors = [df[\"Descriptors 1\"], df[\"Descriptors 2\"]]\n",
    "actions = [df[\"Actions 1\"], df[\"Actions 2\"]]\n",
    "eventfocus = df[\"EventFocus\"]\n",
    "specialelements = df[\"Special Elements\"]\n",
    "eventfocus  = df[\"EventFocus\"]\n",
    "specialelements  = df[\"Special Elements\"]\n",
    "characterspecialtraits = df[\"Character Special Traits\"]\n",
    "characteridentities = df[\"Character Identity\"]\n",
    "characterdescriptors = df[\"Character Descriptors\"]\n",
    "cthulhuoccupations = df[\"Cthulhu Occupations\"]\n",
    "cthulhuelements = df[\"Cthulhu Elements\"]"
   ]
  },
  {
   "cell_type": "code",
   "execution_count": 53,
   "metadata": {},
   "outputs": [],
   "source": [
    "# Convert pandas tables to text files separated by lines\n",
    "# for tablename in getTableNames():\n",
    "#     filename = tablename.replace(\" \", \"\").lower()\n",
    "#     filename = \"data/\" + filename + \".txt\"\n",
    "#     with open(filename, \"w\") as file:\n",
    "#         buffer = str(np.array(df[tablename]))\n",
    "#         buffer = buffer.replace(\"' '\", \"'\\n'\")\n",
    "#         buffer = buffer.replace(\"'\", \"\")\n",
    "#         buffer = buffer.replace(\"[\", \"\")\n",
    "#         buffer = buffer.replace(\"]\", \"\")\n",
    "#         file.write(buffer)"
   ]
  },
  {
   "cell_type": "code",
   "execution_count": 14,
   "metadata": {},
   "outputs": [
    {
     "data": {
      "text/plain": [
       "['1d100',\n",
       " 'Descriptors 1',\n",
       " 'Descriptors 2',\n",
       " 'Actions 1',\n",
       " 'Actions 2',\n",
       " 'EventFocus',\n",
       " 'Special Elements',\n",
       " 'Character Special Traits',\n",
       " 'Character Identity',\n",
       " 'Character Descriptors',\n",
       " 'Default Adventure Characters List',\n",
       " 'Default Adventures Plotlines List',\n",
       " 'Cthulhu Occupations',\n",
       " 'Cthulhu Elements',\n",
       " 'Enemies']"
      ]
     },
     "execution_count": 14,
     "metadata": {},
     "output_type": "execute_result"
    }
   ],
   "source": [
    "getTableNames()"
   ]
  },
  {
   "cell_type": "code",
   "execution_count": null,
   "metadata": {},
   "outputs": [],
   "source": [
    "descriptordiceresult1, descriptordiceresult2 = intInput(\"Descriptor 1: \"), intInput(\"Descriptor 2: \")\n",
    "actiondiceresult1, actiondiceresult2 = intInput(\"Action 1: \"), intInput(\"Action 2: \")\n",
    "eventfocusdiceresult  = intInput(\"Event Focus: \")\n",
    "specialelementdiceresult  = intInput(\"Special Element: \")\n",
    "characterspecialtraitsdiceresult = intInput(\"Character Special Traits:\")\n",
    "characteridentitydiceresult = intInput(\"Character Identity: \")\n",
    "characterdescriptordiceresult = intInput(\"Character Descriptor: \")\n",
    "cthulhuoccupationdiceresult = intInput(\"Cthulhu Occupation: \")\n",
    "cthulhuelementdiceresult = intInput(\"Cthulhu Element: \")\n",
    "\n",
    "descriptor = getDescriptors(firstresult=descriptordiceresult1, secondresult=descriptordiceresult2)\n",
    "action = getActions(firstresult=actiondiceresult1, secondresult=actiondiceresult2)\n",
    "eventfocus = geteventfocus(result=eventfocusdiceresult)\n",
    "specialelement = getspecialelements(result=specialelementdiceresult)\n",
    "characterspecialtraits = getcharacterspecialtraitss(result=characterspecialtraitsdiceresult)\n",
    "print(\"Descriptor: \", descriptor)\n",
    "print(\"Action: \", action)"
   ]
  }
 ],
 "metadata": {
  "kernelspec": {
   "display_name": "Python 3",
   "language": "python",
   "name": "python3"
  },
  "language_info": {
   "codemirror_mode": {
    "name": "ipython",
    "version": 3
   },
   "file_extension": ".py",
   "mimetype": "text/x-python",
   "name": "python",
   "nbconvert_exporter": "python",
   "pygments_lexer": "ipython3",
   "version": "3.7.2"
  }
 },
 "nbformat": 4,
 "nbformat_minor": 2
}
